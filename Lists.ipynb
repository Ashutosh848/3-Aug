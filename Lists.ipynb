{
 "cells": [
  {
   "cell_type": "markdown",
   "id": "922f79c8-ff83-4762-ac4c-ff5e5dd2de1e",
   "metadata": {},
   "source": [
    "# List = List is a  collection of different values or different types of data types,items.\n",
    "# List is capable of storing different data types under one variable ex:- [1,2,\"Ashutosh Tiwari\"] "
   ]
  },
  {
   "cell_type": "code",
   "execution_count": 2,
   "id": "f67cd7e1-08f9-4b34-a638-fc6dbe5761a0",
   "metadata": {},
   "outputs": [
    {
     "data": {
      "text/plain": [
       "[1, 2, 3, 'Ashutosh', 'Mohit', 'Rahul', 'Now']"
      ]
     },
     "execution_count": 2,
     "metadata": {},
     "output_type": "execute_result"
    }
   ],
   "source": [
    "#Most used String methods\n",
    "#append method adds and item to the end of the list.\n",
    "l = [1,2,3,\"Ashutosh\",\"Mohit\",\"Rahul\"]\n",
    "l.append(\"Now\")\n",
    "l"
   ]
  },
  {
   "cell_type": "code",
   "execution_count": 3,
   "id": "b9f6c1df-6a87-424b-811b-545782293827",
   "metadata": {},
   "outputs": [
    {
     "name": "stdout",
     "output_type": "stream",
     "text": [
      "[1, 2, 3, 4, 1, 2, 3, 98, 78]\n"
     ]
    }
   ],
   "source": [
    "# Extend method adds the items of the 2nd list into the first list.\n",
    "l1 = [1,2,3,4]\n",
    "l2 = [1,2,3,98,78]\n",
    "l1.extend(l2)\n",
    "print(l1)"
   ]
  },
  {
   "cell_type": "code",
   "execution_count": 4,
   "id": "8db743b1-1708-440b-b1ca-b477cf19605d",
   "metadata": {},
   "outputs": [
    {
     "data": {
      "text/plain": [
       "[12, 45, 38, 91, 29]"
      ]
     },
     "execution_count": 4,
     "metadata": {},
     "output_type": "execute_result"
    }
   ],
   "source": [
    "# Insert method inserts an item to the specified position of the list\n",
    "# list.insert(index,item)\n",
    "l1 = [12,38,91,29]\n",
    "l1.insert(1,45)\n",
    "l1"
   ]
  },
  {
   "cell_type": "code",
   "execution_count": 5,
   "id": "35b759a3-35cc-4261-ac5f-c224883435e5",
   "metadata": {},
   "outputs": [
    {
     "data": {
      "text/plain": [
       "[54, 283, 18]"
      ]
     },
     "execution_count": 5,
     "metadata": {},
     "output_type": "execute_result"
    }
   ],
   "source": [
    "# Remove method removes the item of the list you wanted to be removed\n",
    "l1 = [54,283,18,\"Ashutosh\"]\n",
    "l1.remove(\"Ashutosh\")\n",
    "l1"
   ]
  },
  {
   "cell_type": "code",
   "execution_count": 7,
   "id": "b0d277c3-6e2e-441b-90bf-b2ff64f425c9",
   "metadata": {},
   "outputs": [
    {
     "data": {
      "text/plain": [
       "[]"
      ]
     },
     "execution_count": 7,
     "metadata": {},
     "output_type": "execute_result"
    }
   ],
   "source": [
    "#clear method is used when we need to clear the whole list and return an empty list.\n",
    "l1 = [1,2,3,4,98]\n",
    "l1.clear()\n",
    "l1"
   ]
  },
  {
   "cell_type": "code",
   "execution_count": 12,
   "id": "9272c21d-720b-4a08-9263-9d4f54f1b053",
   "metadata": {},
   "outputs": [
    {
     "name": "stdout",
     "output_type": "stream",
     "text": [
      "[1, 5, 7, 8, 13, 19, 38, 9384]\n"
     ]
    },
    {
     "data": {
      "text/plain": [
       "[9384, 38, 19, 13, 8, 7, 5, 1]"
      ]
     },
     "execution_count": 12,
     "metadata": {},
     "output_type": "execute_result"
    }
   ],
   "source": [
    "#Sort method is used when we need to sort a list in ascending and descending order according to the list.\n",
    "l1 = [13,9384,8,1,7,5,38,19]\n",
    "l1.sort()\n",
    "print(l1)\n",
    "l1.sort(reverse = True)\n",
    "l1"
   ]
  },
  {
   "cell_type": "code",
   "execution_count": null,
   "id": "b0305132-51d5-4abd-a988-d7728e4101dc",
   "metadata": {},
   "outputs": [],
   "source": []
  }
 ],
 "metadata": {
  "kernelspec": {
   "display_name": "Python 3 (ipykernel)",
   "language": "python",
   "name": "python3"
  },
  "language_info": {
   "codemirror_mode": {
    "name": "ipython",
    "version": 3
   },
   "file_extension": ".py",
   "mimetype": "text/x-python",
   "name": "python",
   "nbconvert_exporter": "python",
   "pygments_lexer": "ipython3",
   "version": "3.11.7"
  }
 },
 "nbformat": 4,
 "nbformat_minor": 5
}
